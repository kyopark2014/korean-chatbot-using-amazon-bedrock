{
 "cells": [
  {
   "cell_type": "markdown",
   "id": "876bc62c-c7f9-48eb-afd5-95305e32a4fe",
   "metadata": {
    "tags": []
   },
   "source": [
    "# PDF Extraction"
   ]
  },
  {
   "cell_type": "code",
   "execution_count": 2,
   "id": "a1dcff61-98c6-4ed5-bfb2-f8f2642da351",
   "metadata": {
    "tags": []
   },
   "outputs": [
    {
     "name": "stdout",
     "output_type": "stream",
     "text": [
      "Requirement already satisfied: pypdf in /opt/conda/lib/python3.10/site-packages (4.3.1)\n",
      "Requirement already satisfied: typing_extensions>=4.0 in /opt/conda/lib/python3.10/site-packages (from pypdf) (4.11.0)\n",
      "\u001b[33mWARNING: Running pip as the 'root' user can result in broken permissions and conflicting behaviour with the system package manager. It is recommended to use a virtual environment instead: https://pip.pypa.io/warnings/venv\u001b[0m\u001b[33m\n",
      "\u001b[0m"
     ]
    }
   ],
   "source": [
    "!pip install pypdf"
   ]
  },
  {
   "cell_type": "code",
   "execution_count": 3,
   "id": "a97f2797-a651-4127-adf4-aa6bcba1e860",
   "metadata": {
    "tags": []
   },
   "outputs": [],
   "source": [
    "s3_bucket = 'storage-for-korean-chatbot-with-rag-677146750822-us-west-2'\n",
    "# key = 'pdf/sample.pdf'\n",
    "key = 'pdf/jw.pdf'"
   ]
  },
  {
   "cell_type": "code",
   "execution_count": 4,
   "id": "b6fff21a-55f3-46c8-b6b5-227c57517b3b",
   "metadata": {
    "tags": []
   },
   "outputs": [],
   "source": [
    "import boto3\n",
    "from pypdf import PdfReader      \n",
    "from io import BytesIO\n",
    "\n",
    "s3r = boto3.resource(\"s3\")\n",
    "doc = s3r.Object(s3_bucket, key)\n",
    "\n",
    "Byte_contents = doc.get()['Body'].read()\n",
    "\n",
    "reader = PdfReader(BytesIO(Byte_contents))"
   ]
  },
  {
   "cell_type": "markdown",
   "id": "b64c1ef6-deb2-4041-bbc9-ec0245a7b560",
   "metadata": {},
   "source": [
    "## Text "
   ]
  },
  {
   "cell_type": "code",
   "execution_count": 5,
   "id": "33d0a29a-40ac-4c44-b2f7-25b9fa22f311",
   "metadata": {
    "tags": []
   },
   "outputs": [],
   "source": [
    "texts = []\n",
    "\n",
    "for i, page in enumerate(reader.pages):\n",
    "    texts.append(page.extract_text())\n",
    "    \n",
    "    contents = '\\n'.join(texts)    "
   ]
  },
  {
   "cell_type": "code",
   "execution_count": 6,
   "id": "ce986571-11d1-49f2-bb3f-1ff7c1faa0f0",
   "metadata": {
    "tags": []
   },
   "outputs": [
    {
     "data": {
      "text/plain": [
       "'* 기간: \\n년\\n월\\n일\\n 년\\n월\\n일\\n이그제큐티브 라운지이용인원추가시\\n성인\\n인\\n만원\\n어린이\\n 개월\\n만\\n세\\n인\\n만원\\n예약마감날짜\\n월\\n 일\\n월\\n 일\\n월\\n일\\n* 문의: 객실예약과\\n지화영지배인\\n2021년기업체임직원분들을 위한특별한휴양프로모션으로\\nJW 메리어트 호텔서울에서 차원이다른럭셔리를 즐겨보시기 바랍니다 .\\n객실타입이그제큐티브 디럭스\\n(이그제큐티브 라운지\\n 인포함)\\n일요일 -금요일\\n 원\\n토요일\\n 원\\n객실타입그리핀스위트\\n(이그제큐티브 라운지\\n 인포함)\\n일요일 -금요일\\n 원\\n토요일\\n 원\\n혜택\\n 혜택\\n 혜택\\n이그제큐티브 라운지\\n인이용가능\\n조식\\n이브닝오르되브르\\n이브닝칵테일\\n디저트\\n당첨경품이벤트\\n쿠폰증정\\n(호텔1박숙박권및레스토랑 & 바이용권 , \\n호텔PB 상품, 화장품등) \\n*투숙당 1매제공마르퀴스 피트니스 클럽 ,\\n실내수영장및사우나\\n무료이용\\n•상기금액외\\n세금과\\n 의봉사료가 별도로부과됩니다\\n•코로나\\n 감염예방과확산방지를위한정부지침에따라\\n호텔운영사항은변경될수있습니다\\n메리어트 본보이가입시\\n세이하자녀\\n'"
      ]
     },
     "execution_count": 6,
     "metadata": {},
     "output_type": "execute_result"
    }
   ],
   "source": [
    "contents[:500]"
   ]
  },
  {
   "cell_type": "markdown",
   "id": "c3bd346f-58c6-4ac3-ae35-114323f2e0d6",
   "metadata": {},
   "source": [
    "## Image"
   ]
  },
  {
   "cell_type": "code",
   "execution_count": 7,
   "id": "674f3337-a14b-4e48-aec8-e0930f145190",
   "metadata": {
    "tags": []
   },
   "outputs": [],
   "source": [
    "s3_prefix = 'pdf'\n",
    "s3_client = boto3.client('s3')  \n",
    "def extract_images_from_pdf(reader, key):\n",
    "    picture_count = 1\n",
    "    \n",
    "    extracted_image_files = []\n",
    "    for i, page in enumerate(reader.pages):        \n",
    "        for image_file_object in page.images:\n",
    "            img_name = image_file_object.name\n",
    "            if img_name in extracted_image_files:\n",
    "                # print('skip....')\n",
    "                continue\n",
    "            \n",
    "            extracted_image_files.append(img_name)\n",
    "            \n",
    "            ext = img_name.split('.')[-1]            \n",
    "            contentType = \"\"\n",
    "            if ext == 'png':\n",
    "                contentType = 'image/png'\n",
    "            elif ext == 'jpg' or ext == 'jpeg':\n",
    "                contentType = 'image/jpeg'\n",
    "            elif ext == 'gif':\n",
    "                contentType = 'image/gif'\n",
    "            elif ext == 'bmp':\n",
    "                contentType = 'image/bmp'\n",
    "            elif ext == 'tiff' or ext == 'tif':\n",
    "                contentType = 'image/tiff'\n",
    "            elif ext == 'svg':\n",
    "                contentType = 'image/svg+xml'\n",
    "            elif ext == 'webp':\n",
    "                contentType = 'image/webp'\n",
    "            elif ext == 'ico':\n",
    "                contentType = 'image/x-icon'\n",
    "            elif ext == 'eps':\n",
    "                contentType = 'image/eps'\n",
    "            \n",
    "            if contentType:                \n",
    "                image_bytes = image_file_object.data\n",
    "\n",
    "                pixels = BytesIO(image_bytes)\n",
    "                pixels.seek(0, 0)\n",
    "                            \n",
    "                # get path from key\n",
    "                objectName = (key[key.find(s3_prefix)+len(s3_prefix)+1:len(key)])\n",
    "                folder = s3_prefix+'/files/'+objectName+'/'\n",
    "                            \n",
    "                img_key = folder+img_name                \n",
    "                response = s3_client.put_object(\n",
    "                    Bucket=s3_bucket,\n",
    "                    Key=img_key,\n",
    "                    ContentType=contentType,\n",
    "                    Body=pixels\n",
    "                )\n",
    "                            \n",
    "                # metadata\n",
    "                img_meta = {   \n",
    "                    'bucket': s3_bucket,\n",
    "                    'key': img_key,\n",
    "                    # 'url': path+img_key,\n",
    "                    'ext': 'png',\n",
    "                    'page': i+1,\n",
    "                    'original': key\n",
    "                }                            \n",
    "                picture_count += 1                    \n",
    "                extracted_image_files.append(img_key)\n",
    "\n",
    "    return extracted_image_files"
   ]
  },
  {
   "cell_type": "code",
   "execution_count": 8,
   "id": "44c3f017-2bad-47ab-b3b5-a5c3ed79cd98",
   "metadata": {
    "tags": []
   },
   "outputs": [
    {
     "name": "stderr",
     "output_type": "stream",
     "text": [
      "image and mask size not matching: {'/Type': '/XObject', '/Subtype': '/Image', '/Width': 2, '/Height': 2, '/ColorSpace': ['/Indexed', '/DeviceRGB', 1, 'fa]ÿÿÿ'], '/BitsPerComponent': 1, '/Interpolate': False, '/SMask': IndirectObject(16, 0, 140428976776448)}\n",
      "image and mask size not matching: {'/Type': '/XObject', '/Subtype': '/Image', '/Width': 2, '/Height': 2, '/ColorSpace': ['/Indexed', '/DeviceRGB', 1, 'fa]ÿÿÿ'], '/BitsPerComponent': 1, '/Interpolate': False, '/SMask': IndirectObject(23, 0, 140428976776448)}\n",
      "image and mask size not matching: {'/Type': '/XObject', '/Subtype': '/Image', '/Width': 2, '/Height': 2, '/ColorSpace': ['/Indexed', '/DeviceRGB', 1, 'fa]ÿÿÿ'], '/BitsPerComponent': 1, '/Interpolate': False, '/SMask': IndirectObject(25, 0, 140428976776448)}\n",
      "image and mask size not matching: {'/Type': '/XObject', '/Subtype': '/Image', '/Width': 2, '/Height': 2, '/ColorSpace': ['/Indexed', '/DeviceRGB', 1, 'fa]ÿÿÿ'], '/BitsPerComponent': 1, '/Interpolate': False, '/SMask': IndirectObject(27, 0, 140428976776448)}\n",
      "image and mask size not matching: {'/Type': '/XObject', '/Subtype': '/Image', '/Width': 2, '/Height': 2, '/ColorSpace': ['/Indexed', '/DeviceRGB', 1, 'fa]ÿÿÿ'], '/BitsPerComponent': 1, '/Interpolate': False, '/SMask': IndirectObject(29, 0, 140428976776448)}\n",
      "image and mask size not matching: {'/Type': '/XObject', '/Subtype': '/Image', '/Width': 2, '/Height': 2, '/ColorSpace': ['/Indexed', '/DeviceRGB', 1, 'fa]ÿÿÿ'], '/BitsPerComponent': 1, '/Interpolate': False, '/SMask': IndirectObject(31, 0, 140428976776448)}\n",
      "image and mask size not matching: {'/Type': '/XObject', '/Subtype': '/Image', '/Width': 2, '/Height': 2, '/ColorSpace': ['/Indexed', '/DeviceRGB', 1, 'fa]ÿÿÿ'], '/BitsPerComponent': 1, '/Interpolate': False, '/SMask': IndirectObject(33, 0, 140428976776448)}\n",
      "image and mask size not matching: {'/Type': '/XObject', '/Subtype': '/Image', '/Width': 2, '/Height': 2, '/ColorSpace': ['/Indexed', '/DeviceRGB', 1, 'fa]ÿÿÿ'], '/BitsPerComponent': 1, '/Interpolate': False, '/SMask': IndirectObject(35, 0, 140428976776448)}\n",
      "image and mask size not matching: {'/Type': '/XObject', '/Subtype': '/Image', '/Width': 2, '/Height': 2, '/ColorSpace': ['/Indexed', '/DeviceRGB', 1, 'fa]ÿÿÿ'], '/BitsPerComponent': 1, '/Interpolate': False, '/SMask': IndirectObject(37, 0, 140428976776448)}\n",
      "image and mask size not matching: {'/Type': '/XObject', '/Subtype': '/Image', '/Width': 2, '/Height': 2, '/ColorSpace': ['/Indexed', '/DeviceRGB', 1, 'fa]ÿÿÿ'], '/BitsPerComponent': 1, '/Interpolate': False, '/SMask': IndirectObject(39, 0, 140428976776448)}\n",
      "image and mask size not matching: {'/Type': '/XObject', '/Subtype': '/Image', '/Width': 2, '/Height': 2, '/ColorSpace': ['/Indexed', '/DeviceRGB', 1, 'fa]ÿÿÿ'], '/BitsPerComponent': 1, '/Interpolate': False, '/SMask': IndirectObject(41, 0, 140428976776448)}\n",
      "image and mask size not matching: {'/Type': '/XObject', '/Subtype': '/Image', '/Width': 2, '/Height': 2, '/ColorSpace': ['/Indexed', '/DeviceRGB', 1, 'fa]ÿÿÿ'], '/BitsPerComponent': 1, '/Interpolate': False, '/SMask': IndirectObject(43, 0, 140428976776448)}\n",
      "image and mask size not matching: {'/Type': '/XObject', '/Subtype': '/Image', '/Width': 2, '/Height': 2, '/ColorSpace': ['/Indexed', '/DeviceRGB', 1, 'fa]ÿÿÿ'], '/BitsPerComponent': 1, '/Interpolate': False, '/SMask': IndirectObject(45, 0, 140428976776448)}\n",
      "image and mask size not matching: {'/Type': '/XObject', '/Subtype': '/Image', '/Width': 2, '/Height': 2, '/ColorSpace': ['/Indexed', '/DeviceRGB', 1, 'fa]ÿÿÿ'], '/BitsPerComponent': 1, '/Interpolate': False, '/SMask': IndirectObject(47, 0, 140428976776448)}\n",
      "image and mask size not matching: {'/Type': '/XObject', '/Subtype': '/Image', '/Width': 2, '/Height': 2, '/ColorSpace': ['/Indexed', '/DeviceRGB', 1, 'fa]ÿÿÿ'], '/BitsPerComponent': 1, '/Interpolate': False, '/SMask': IndirectObject(49, 0, 140428976776448)}\n",
      "image and mask size not matching: {'/Type': '/XObject', '/Subtype': '/Image', '/Width': 2, '/Height': 2, '/ColorSpace': ['/Indexed', '/DeviceRGB', 1, 'fa]ÿÿÿ'], '/BitsPerComponent': 1, '/Interpolate': False, '/SMask': IndirectObject(51, 0, 140428976776448)}\n",
      "image and mask size not matching: {'/Type': '/XObject', '/Subtype': '/Image', '/Width': 2, '/Height': 2, '/ColorSpace': ['/Indexed', '/DeviceRGB', 1, 'fa]ÿÿÿ'], '/BitsPerComponent': 1, '/Interpolate': False, '/SMask': IndirectObject(53, 0, 140428976776448)}\n",
      "image and mask size not matching: {'/Type': '/XObject', '/Subtype': '/Image', '/Width': 2, '/Height': 2, '/ColorSpace': ['/Indexed', '/DeviceRGB', 1, 'fa]ÿÿÿ'], '/BitsPerComponent': 1, '/Interpolate': False, '/SMask': IndirectObject(55, 0, 140428976776448)}\n",
      "image and mask size not matching: {'/Type': '/XObject', '/Subtype': '/Image', '/Width': 2, '/Height': 2, '/ColorSpace': ['/Indexed', '/DeviceRGB', 1, 'fa]ÿÿÿ'], '/BitsPerComponent': 1, '/Interpolate': False, '/SMask': IndirectObject(57, 0, 140428976776448)}\n",
      "image and mask size not matching: {'/Type': '/XObject', '/Subtype': '/Image', '/Width': 2, '/Height': 2, '/ColorSpace': ['/Indexed', '/DeviceRGB', 1, 'fa]ÿÿÿ'], '/BitsPerComponent': 1, '/Interpolate': False, '/SMask': IndirectObject(59, 0, 140428976776448)}\n",
      "image and mask size not matching: {'/Type': '/XObject', '/Subtype': '/Image', '/Width': 2, '/Height': 2, '/ColorSpace': ['/Indexed', '/DeviceRGB', 1, 'fa]ÿÿÿ'], '/BitsPerComponent': 1, '/Interpolate': False, '/SMask': IndirectObject(61, 0, 140428976776448)}\n",
      "image and mask size not matching: {'/Type': '/XObject', '/Subtype': '/Image', '/Width': 2, '/Height': 2, '/ColorSpace': ['/Indexed', '/DeviceRGB', 1, 'fa]ÿÿÿ'], '/BitsPerComponent': 1, '/Interpolate': False, '/SMask': IndirectObject(63, 0, 140428976776448)}\n",
      "image and mask size not matching: {'/Type': '/XObject', '/Subtype': '/Image', '/Width': 2, '/Height': 2, '/ColorSpace': ['/Indexed', '/DeviceRGB', 1, 'fa]ÿÿÿ'], '/BitsPerComponent': 1, '/Interpolate': False, '/SMask': IndirectObject(65, 0, 140428976776448)}\n",
      "image and mask size not matching: {'/Type': '/XObject', '/Subtype': '/Image', '/Width': 2, '/Height': 2, '/ColorSpace': ['/Indexed', '/DeviceRGB', 1, 'fa]ÿÿÿ'], '/BitsPerComponent': 1, '/Interpolate': False, '/SMask': IndirectObject(67, 0, 140428976776448)}\n",
      "image and mask size not matching: {'/Type': '/XObject', '/Subtype': '/Image', '/Width': 2, '/Height': 2, '/ColorSpace': ['/Indexed', '/DeviceRGB', 1, 'fa]ÿÿÿ'], '/BitsPerComponent': 1, '/Interpolate': False, '/SMask': IndirectObject(69, 0, 140428976776448)}\n",
      "image and mask size not matching: {'/Type': '/XObject', '/Subtype': '/Image', '/Width': 2, '/Height': 2, '/ColorSpace': ['/Indexed', '/DeviceRGB', 1, 'fa]ÿÿÿ'], '/BitsPerComponent': 1, '/Interpolate': False, '/SMask': IndirectObject(71, 0, 140428976776448)}\n",
      "image and mask size not matching: {'/Type': '/XObject', '/Subtype': '/Image', '/Width': 2, '/Height': 2, '/ColorSpace': ['/Indexed', '/DeviceRGB', 1, 'fa]ÿÿÿ'], '/BitsPerComponent': 1, '/Interpolate': False, '/SMask': IndirectObject(73, 0, 140428976776448)}\n",
      "image and mask size not matching: {'/Type': '/XObject', '/Subtype': '/Image', '/Width': 2, '/Height': 2, '/ColorSpace': ['/Indexed', '/DeviceRGB', 1, b'\\x00\\x00\\xff\\xff\\xff\\xff'], '/BitsPerComponent': 1, '/Interpolate': False, '/SMask': IndirectObject(76, 0, 140428976776448)}\n",
      "image and mask size not matching: {'/Type': '/XObject', '/Subtype': '/Image', '/Width': 2, '/Height': 2, '/ColorSpace': ['/Indexed', '/DeviceRGB', 1, 'fa]ÿÿÿ'], '/BitsPerComponent': 1, '/Interpolate': False, '/SMask': IndirectObject(78, 0, 140428976776448)}\n",
      "image and mask size not matching: {'/Type': '/XObject', '/Subtype': '/Image', '/Width': 2, '/Height': 2, '/ColorSpace': ['/Indexed', '/DeviceRGB', 1, b'\\x00\\x00\\xff\\xff\\xff\\xff'], '/BitsPerComponent': 1, '/Interpolate': False, '/SMask': IndirectObject(81, 0, 140428976776448)}\n",
      "image and mask size not matching: {'/Type': '/XObject', '/Subtype': '/Image', '/Width': 2, '/Height': 2, '/ColorSpace': ['/Indexed', '/DeviceRGB', 1, 'fa]ÿÿÿ'], '/BitsPerComponent': 1, '/Interpolate': False, '/SMask': IndirectObject(83, 0, 140428976776448)}\n",
      "image and mask size not matching: {'/Type': '/XObject', '/Subtype': '/Image', '/Width': 2, '/Height': 2, '/ColorSpace': ['/Indexed', '/DeviceRGB', 1, 'fa]ÿÿÿ'], '/BitsPerComponent': 1, '/Interpolate': False, '/SMask': IndirectObject(87, 0, 140428976776448)}\n",
      "image and mask size not matching: {'/Type': '/XObject', '/Subtype': '/Image', '/Width': 2, '/Height': 2, '/ColorSpace': ['/Indexed', '/DeviceRGB', 1, 'fa]ÿÿÿ'], '/BitsPerComponent': 1, '/Interpolate': False, '/SMask': IndirectObject(89, 0, 140428976776448)}\n",
      "image and mask size not matching: {'/Type': '/XObject', '/Subtype': '/Image', '/Width': 2, '/Height': 2, '/ColorSpace': ['/Indexed', '/DeviceRGB', 1, 'fa]ÿÿÿ'], '/BitsPerComponent': 1, '/Interpolate': False, '/SMask': IndirectObject(93, 0, 140428976776448)}\n",
      "image and mask size not matching: {'/Type': '/XObject', '/Subtype': '/Image', '/Width': 2, '/Height': 2, '/ColorSpace': ['/Indexed', '/DeviceRGB', 1, 'fa]ÿÿÿ'], '/BitsPerComponent': 1, '/Interpolate': False, '/SMask': IndirectObject(97, 0, 140428976776448)}\n",
      "image and mask size not matching: {'/Type': '/XObject', '/Subtype': '/Image', '/Width': 2, '/Height': 2, '/ColorSpace': ['/Indexed', '/DeviceRGB', 1, 'fa]ÿÿÿ'], '/BitsPerComponent': 1, '/Interpolate': False, '/SMask': IndirectObject(99, 0, 140428976776448)}\n",
      "image and mask size not matching: {'/Type': '/XObject', '/Subtype': '/Image', '/Width': 2, '/Height': 2, '/ColorSpace': ['/Indexed', '/DeviceRGB', 1, 'fa]ÿÿÿ'], '/BitsPerComponent': 1, '/Interpolate': False, '/SMask': IndirectObject(101, 0, 140428976776448)}\n",
      "image and mask size not matching: {'/Type': '/XObject', '/Subtype': '/Image', '/Width': 2, '/Height': 2, '/ColorSpace': ['/Indexed', '/DeviceRGB', 1, 'fa]ÿÿÿ'], '/BitsPerComponent': 1, '/Interpolate': False, '/SMask': IndirectObject(103, 0, 140428976776448)}\n",
      "image and mask size not matching: {'/Type': '/XObject', '/Subtype': '/Image', '/Width': 2, '/Height': 2, '/ColorSpace': ['/Indexed', '/DeviceRGB', 1, 'fa]ÿÿÿ'], '/BitsPerComponent': 1, '/Interpolate': False, '/SMask': IndirectObject(105, 0, 140428976776448)}\n",
      "image and mask size not matching: {'/Type': '/XObject', '/Subtype': '/Image', '/Width': 2, '/Height': 2, '/ColorSpace': ['/Indexed', '/DeviceRGB', 1, 'fa]ÿÿÿ'], '/BitsPerComponent': 1, '/Interpolate': False, '/SMask': IndirectObject(107, 0, 140428976776448)}\n",
      "image and mask size not matching: {'/Type': '/XObject', '/Subtype': '/Image', '/Width': 2, '/Height': 2, '/ColorSpace': ['/Indexed', '/DeviceRGB', 1, 'fa]ÿÿÿ'], '/BitsPerComponent': 1, '/Interpolate': False, '/SMask': IndirectObject(109, 0, 140428976776448)}\n",
      "image and mask size not matching: {'/Type': '/XObject', '/Subtype': '/Image', '/Width': 2, '/Height': 2, '/ColorSpace': ['/Indexed', '/DeviceRGB', 1, 'fa]ÿÿÿ'], '/BitsPerComponent': 1, '/Interpolate': False, '/SMask': IndirectObject(111, 0, 140428976776448)}\n",
      "image and mask size not matching: {'/Type': '/XObject', '/Subtype': '/Image', '/Width': 2, '/Height': 2, '/ColorSpace': ['/Indexed', '/DeviceRGB', 1, 'fa]ÿÿÿ'], '/BitsPerComponent': 1, '/Interpolate': False, '/SMask': IndirectObject(113, 0, 140428976776448)}\n",
      "image and mask size not matching: {'/Type': '/XObject', '/Subtype': '/Image', '/Width': 2, '/Height': 2, '/ColorSpace': ['/Indexed', '/DeviceRGB', 1, 'fa]ÿÿÿ'], '/BitsPerComponent': 1, '/Interpolate': False, '/SMask': IndirectObject(115, 0, 140428976776448)}\n",
      "image and mask size not matching: {'/Type': '/XObject', '/Subtype': '/Image', '/Width': 2, '/Height': 2, '/ColorSpace': ['/Indexed', '/DeviceRGB', 1, 'fa]ÿÿÿ'], '/BitsPerComponent': 1, '/Interpolate': False, '/SMask': IndirectObject(117, 0, 140428976776448)}\n",
      "image and mask size not matching: {'/Type': '/XObject', '/Subtype': '/Image', '/Width': 2, '/Height': 2, '/ColorSpace': ['/Indexed', '/DeviceRGB', 1, 'fa]ÿÿÿ'], '/BitsPerComponent': 1, '/Interpolate': False, '/SMask': IndirectObject(119, 0, 140428976776448)}\n",
      "image and mask size not matching: {'/Type': '/XObject', '/Subtype': '/Image', '/Width': 2, '/Height': 2, '/ColorSpace': ['/Indexed', '/DeviceRGB', 1, 'fa]ÿÿÿ'], '/BitsPerComponent': 1, '/Interpolate': False, '/SMask': IndirectObject(121, 0, 140428976776448)}\n",
      "image and mask size not matching: {'/Type': '/XObject', '/Subtype': '/Image', '/Width': 2, '/Height': 2, '/ColorSpace': ['/Indexed', '/DeviceRGB', 1, 'fa]ÿÿÿ'], '/BitsPerComponent': 1, '/Interpolate': False, '/SMask': IndirectObject(123, 0, 140428976776448)}\n",
      "image and mask size not matching: {'/Type': '/XObject', '/Subtype': '/Image', '/Width': 2, '/Height': 2, '/ColorSpace': ['/Indexed', '/DeviceRGB', 1, 'fa]ÿÿÿ'], '/BitsPerComponent': 1, '/Interpolate': False, '/SMask': IndirectObject(130, 0, 140428976776448)}\n",
      "image and mask size not matching: {'/Type': '/XObject', '/Subtype': '/Image', '/Width': 2, '/Height': 2, '/ColorSpace': ['/Indexed', '/DeviceRGB', 1, 'fa]ÿÿÿ'], '/BitsPerComponent': 1, '/Interpolate': False, '/SMask': IndirectObject(132, 0, 140428976776448)}\n",
      "image and mask size not matching: {'/Type': '/XObject', '/Subtype': '/Image', '/Width': 2, '/Height': 2, '/ColorSpace': ['/Indexed', '/DeviceRGB', 1, 'fa]ÿÿÿ'], '/BitsPerComponent': 1, '/Interpolate': False, '/SMask': IndirectObject(134, 0, 140428976776448)}\n",
      "image and mask size not matching: {'/Type': '/XObject', '/Subtype': '/Image', '/Width': 2, '/Height': 2, '/ColorSpace': ['/Indexed', '/DeviceRGB', 1, 'fa]ÿÿÿ'], '/BitsPerComponent': 1, '/Interpolate': False, '/SMask': IndirectObject(136, 0, 140428976776448)}\n",
      "image and mask size not matching: {'/Type': '/XObject', '/Subtype': '/Image', '/Width': 2, '/Height': 2, '/ColorSpace': ['/Indexed', '/DeviceRGB', 1, 'fa]ÿÿÿ'], '/BitsPerComponent': 1, '/Interpolate': False, '/SMask': IndirectObject(138, 0, 140428976776448)}\n",
      "image and mask size not matching: {'/Type': '/XObject', '/Subtype': '/Image', '/Width': 2, '/Height': 2, '/ColorSpace': ['/Indexed', '/DeviceRGB', 1, 'fa]ÿÿÿ'], '/BitsPerComponent': 1, '/Interpolate': False, '/SMask': IndirectObject(140, 0, 140428976776448)}\n",
      "image and mask size not matching: {'/Type': '/XObject', '/Subtype': '/Image', '/Width': 2, '/Height': 2, '/ColorSpace': ['/Indexed', '/DeviceRGB', 1, 'fa]ÿÿÿ'], '/BitsPerComponent': 1, '/Interpolate': False, '/SMask': IndirectObject(142, 0, 140428976776448)}\n",
      "image and mask size not matching: {'/Type': '/XObject', '/Subtype': '/Image', '/Width': 2, '/Height': 2, '/ColorSpace': ['/Indexed', '/DeviceRGB', 1, 'fa]ÿÿÿ'], '/BitsPerComponent': 1, '/Interpolate': False, '/SMask': IndirectObject(144, 0, 140428976776448)}\n",
      "image and mask size not matching: {'/Type': '/XObject', '/Subtype': '/Image', '/Width': 2, '/Height': 2, '/ColorSpace': ['/Indexed', '/DeviceRGB', 1, 'fa]ÿÿÿ'], '/BitsPerComponent': 1, '/Interpolate': False, '/SMask': IndirectObject(146, 0, 140428976776448)}\n",
      "image and mask size not matching: {'/Type': '/XObject', '/Subtype': '/Image', '/Width': 2, '/Height': 2, '/ColorSpace': ['/Indexed', '/DeviceRGB', 1, 'fa]ÿÿÿ'], '/BitsPerComponent': 1, '/Interpolate': False, '/SMask': IndirectObject(148, 0, 140428976776448)}\n",
      "image and mask size not matching: {'/Type': '/XObject', '/Subtype': '/Image', '/Width': 2, '/Height': 2, '/ColorSpace': ['/Indexed', '/DeviceRGB', 1, 'fa]ÿÿÿ'], '/BitsPerComponent': 1, '/Interpolate': False, '/SMask': IndirectObject(150, 0, 140428976776448)}\n",
      "image and mask size not matching: {'/Type': '/XObject', '/Subtype': '/Image', '/Width': 2, '/Height': 2, '/ColorSpace': ['/Indexed', '/DeviceRGB', 1, 'fa]ÿÿÿ'], '/BitsPerComponent': 1, '/Interpolate': False, '/SMask': IndirectObject(152, 0, 140428976776448)}\n",
      "image and mask size not matching: {'/Type': '/XObject', '/Subtype': '/Image', '/Width': 2, '/Height': 2, '/ColorSpace': ['/Indexed', '/DeviceRGB', 1, 'fa]ÿÿÿ'], '/BitsPerComponent': 1, '/Interpolate': False, '/SMask': IndirectObject(154, 0, 140428976776448)}\n",
      "image and mask size not matching: {'/Type': '/XObject', '/Subtype': '/Image', '/Width': 2, '/Height': 2, '/ColorSpace': ['/Indexed', '/DeviceRGB', 1, 'fa]ÿÿÿ'], '/BitsPerComponent': 1, '/Interpolate': False, '/SMask': IndirectObject(156, 0, 140428976776448)}\n",
      "image and mask size not matching: {'/Type': '/XObject', '/Subtype': '/Image', '/Width': 2, '/Height': 2, '/ColorSpace': ['/Indexed', '/DeviceRGB', 1, 'fa]ÿÿÿ'], '/BitsPerComponent': 1, '/Interpolate': False, '/SMask': IndirectObject(158, 0, 140428976776448)}\n",
      "image and mask size not matching: {'/Type': '/XObject', '/Subtype': '/Image', '/Width': 2, '/Height': 2, '/ColorSpace': ['/Indexed', '/DeviceRGB', 1, 'fa]ÿÿÿ'], '/BitsPerComponent': 1, '/Interpolate': False, '/SMask': IndirectObject(180, 0, 140428976776448)}\n"
     ]
    }
   ],
   "source": [
    "files = []\n",
    "\n",
    "image_files = extract_images_from_pdf(reader, key)\n",
    "for img in image_files:\n",
    "    files.append(img)"
   ]
  },
  {
   "cell_type": "markdown",
   "id": "7f4f8615-88bb-4edd-812e-1eeeff28cf77",
   "metadata": {},
   "source": [
    "### Page 단위로 이미지 저장하기"
   ]
  },
  {
   "cell_type": "code",
   "execution_count": 9,
   "id": "129c1630-e2a8-4919-aad6-4783d51c2e58",
   "metadata": {
    "tags": []
   },
   "outputs": [
    {
     "name": "stdout",
     "output_type": "stream",
     "text": [
      "image[0]: /Image6\n",
      "image[1]: /Image15\n",
      "image[2]: /Image22\n",
      "image[3]: /Image24\n",
      "image[4]: /Image26\n",
      "image[5]: /Image28\n",
      "image[6]: /Image30\n",
      "image[7]: /Image32\n",
      "image[8]: /Image34\n",
      "image[9]: /Image36\n",
      "image[10]: /Image38\n",
      "image[11]: /Image40\n",
      "image[12]: /Image42\n",
      "image[13]: /Image44\n",
      "image[14]: /Image46\n",
      "image[15]: /Image48\n",
      "image[16]: /Image50\n",
      "image[17]: /Image52\n",
      "image[18]: /Image54\n",
      "image[19]: /Image56\n",
      "image[20]: /Image58\n",
      "image[21]: /Image60\n",
      "image[22]: /Image62\n",
      "image[23]: /Image64\n",
      "image[24]: /Image66\n",
      "image[25]: /Image68\n",
      "image[26]: /Image70\n",
      "image[27]: /Image72\n",
      "image[28]: /Image75\n",
      "image[29]: /Image77\n",
      "image[30]: /Image80\n",
      "image[31]: /Image82\n",
      "image[32]: /Image84\n",
      "image[33]: /Image86\n",
      "image[34]: /Image88\n",
      "image[35]: /Image90\n",
      "image[36]: /Image92\n",
      "image[37]: /Image96\n",
      "image[38]: /Image98\n",
      "image[39]: /Image100\n",
      "image[40]: /Image102\n",
      "image[41]: /Image104\n",
      "image[42]: /Image106\n",
      "image[43]: /Image108\n",
      "image[44]: /Image110\n",
      "image[45]: /Image112\n",
      "image[46]: /Image114\n",
      "image[47]: /Image116\n",
      "image[48]: /Image118\n",
      "image[49]: /Image120\n",
      "image[50]: /Image122\n",
      "image[51]: /Image129\n",
      "image[52]: /Image131\n",
      "image[53]: /Image133\n",
      "image[54]: /Image135\n",
      "image[55]: /Image137\n",
      "image[56]: /Image139\n",
      "image[57]: /Image141\n",
      "image[58]: /Image143\n",
      "image[59]: /Image145\n",
      "image[60]: /Image147\n",
      "image[61]: /Image149\n",
      "image[62]: /Image151\n",
      "image[63]: /Image153\n",
      "image[64]: /Image155\n",
      "image[65]: /Image157\n",
      "# of images of page[0] = 66\n",
      "image[0]: /Image161\n",
      "image[1]: /Image162\n",
      "image[2]: /Image164\n",
      "image[3]: /Image166\n",
      "image[4]: /Image167\n",
      "image[5]: /Image169\n",
      "image[6]: /Image170\n",
      "image[7]: /Image172\n",
      "image[8]: /Image173\n",
      "image[9]: /Image175\n",
      "image[10]: /Image176\n",
      "image[11]: /Image178\n",
      "image[12]: /Image179\n",
      "image[13]: /Image181\n",
      "# of images of page[1] = 14\n"
     ]
    }
   ],
   "source": [
    "nImages = []\n",
    "imgList = []\n",
    "for i, page in enumerate(reader.pages):\n",
    "    nImage = 0\n",
    "    if '/XObject' in page['/Resources']:\n",
    "        for j, image in enumerate(page['/Resources']['/XObject']):\n",
    "            print(f\"image[{j}]: {image}\")                                 \n",
    "            if image in imgList:\n",
    "                continue    \n",
    "            else:\n",
    "                imgList.append(image)\n",
    "                                                    \n",
    "            Im = page['/Resources']['/XObject'][image]\n",
    "            nImage = nImage+1\n",
    "                            \n",
    "    print(f\"# of images of page[{i}] = {nImage}\")\n",
    "    nImages.append(nImage)"
   ]
  },
  {
   "cell_type": "code",
   "execution_count": 10,
   "id": "27c56c9a-2ae1-46e9-be21-ed694d870082",
   "metadata": {
    "tags": []
   },
   "outputs": [],
   "source": [
    "from PIL import Image"
   ]
  },
  {
   "cell_type": "code",
   "execution_count": 11,
   "id": "9fb9f94b-5edc-41a0-b98a-c5752b3a1407",
   "metadata": {
    "tags": []
   },
   "outputs": [
    {
     "name": "stdout",
     "output_type": "stream",
     "text": [
      "page[0] -> bbox[0]: (48.84000015258789, 259.9200134277344, 196.3199920654297, 358.20001220703125)\n",
      "page[0] -> bbox[1]: (85.46399688720703, 556.0099487304688, 111.71399688720703, 569.0899658203125)\n",
      "page[0] -> bbox[2]: (118.58000183105469, 556.0099487304688, 133.52000427246094, 569.0899658203125)\n",
      "page[0] -> bbox[3]: (140.57000732421875, 556.0099487304688, 147.77000427246094, 569.0899658203125)\n",
      "page[0] -> bbox[4]: (156.0500030517578, 556.0099487304688, 163.010009765625, 569.0899658203125)\n",
      "page[0] -> bbox[5]: (161.57000732421875, 556.0099487304688, 187.82000732421875, 569.0899658203125)\n",
      "page[0] -> bbox[6]: (194.69000244140625, 556.0099487304688, 208.3699951171875, 569.0899658203125)\n",
      "page[0] -> bbox[7]: (215.80999755859375, 556.0099487304688, 229.6699981689453, 569.0899658203125)\n",
      "page[0] -> bbox[8]: (79.94400024414062, 573.6500244140625, 86.18399810791016, 585.4100341796875)\n",
      "page[0] -> bbox[9]: (235.8699951171875, 573.6500244140625, 241.989990234375, 585.4100341796875)\n",
      "page[0] -> bbox[10]: (259.6300048828125, 573.6500244140625, 266.1100158691406, 585.4100341796875)\n",
      "page[0] -> bbox[11]: (273.6700134277344, 573.6500244140625, 283.9900207519531, 585.4100341796875)\n",
      "page[0] -> bbox[12]: (298.510009765625, 573.6500244140625, 306.4300231933594, 585.4100341796875)\n",
      "page[0] -> bbox[13]: (330.82000732421875, 573.6500244140625, 348.1000061035156, 585.4100341796875)\n",
      "page[0] -> bbox[14]: (363.5799865722656, 573.6500244140625, 369.8199768066406, 585.4100341796875)\n",
      "page[0] -> bbox[15]: (379.17999267578125, 573.6500244140625, 391.6000061035156, 585.4100341796875)\n",
      "page[0] -> bbox[16]: (396.4599914550781, 573.6500244140625, 402.6999816894531, 585.4100341796875)\n",
      "page[0] -> bbox[17]: (401.3800048828125, 573.6500244140625, 407.8600158691406, 585.4100341796875)\n",
      "page[0] -> bbox[18]: (415.29998779296875, 573.6500244140625, 425.1399841308594, 585.4100341796875)\n",
      "page[0] -> bbox[19]: (438.239990234375, 573.6500244140625, 444.47998046875, 585.4100341796875)\n",
      "page[0] -> bbox[20]: (79.94400024414062, 589.8499755859375, 86.18399810791016, 601.6099853515625)\n",
      "page[0] -> bbox[21]: (142.3699951171875, 589.8499755859375, 158.72000122070312, 601.6099853515625)\n",
      "page[0] -> bbox[22]: (166.1300048828125, 589.8499755859375, 179.88999938964844, 601.6099853515625)\n",
      "page[0] -> bbox[23]: (176.4499969482422, 589.8499755859375, 185.80999755859375, 601.6099853515625)\n",
      "page[0] -> bbox[24]: (182.80999755859375, 589.8499755859375, 195.22999572753906, 601.6099853515625)\n",
      "page[0] -> bbox[25]: (201.77000427246094, 589.8499755859375, 222.47000122070312, 601.6099853515625)\n",
      "page[0] -> bbox[26]: (229.00999450683594, 589.8499755859375, 245.0659942626953, 601.6099853515625)\n",
      "page[0] -> bbox[27]: (241.38999938964844, 589.8499755859375, 250.75, 601.6099853515625)\n",
      "page[0] -> bbox[28]: (247.75, 589.8499755859375, 262.69000244140625, 601.6099853515625)\n",
      "page[0] -> bbox[29]: (268.510009765625, 589.8499755859375, 289.21002197265625, 601.6099853515625)\n",
      "page[0] -> bbox[30]: (295.75, 589.8499755859375, 308.3500061035156, 601.6099853515625)\n",
      "page[0] -> bbox[31]: (313.1499938964844, 589.8499755859375, 319.3899841308594, 601.6099853515625)\n",
      "page[0] -> bbox[32]: (139.49000549316406, 606.4299926757812, 325.739990234375, 619.510009765625)\n",
      "page[0] -> bbox[33]: (322.75, 606.4299926757812, 395.6759948730469, 619.510009765625)\n",
      "page[0] -> bbox[34]: (150.52999877929688, 624.4299926757812, 280.17999267578125, 637.510009765625)\n",
      "page[0] -> bbox[35]: (277.1499938964844, 624.4299926757812, 353.33599853515625, 637.510009765625)\n",
      "page[0] -> bbox[36]: (221.8800048828125, 48.840003967285156, 318.1199951171875, 94.44000244140625)\n",
      "page[0] -> bbox[37]: (205.85000610351562, 733.1519775390625, 339.7300109863281, 748.27197265625)\n",
      "page[0] -> bbox[38]: (220.97000122070312, 746.9520263671875, 324.4800109863281, 762.072021484375)\n",
      "page[0] -> bbox[39]: (48.84000015258789, 152.16000366210938, 196.3199920654297, 250.55999755859375)\n",
      "page[0] -> bbox[40]: (420.9599914550781, 167.86000061035156, 432.0, 180.94000244140625)\n",
      "page[0] -> bbox[41]: (365.5, 194.6599884033203, 413.9649963378906, 207.739990234375)\n",
      "page[0] -> bbox[42]: (365.3800048828125, 227.38002014160156, 414.114990234375, 240.46002197265625)\n",
      "page[0] -> bbox[43]: (420.9599914550781, 275.59002685546875, 432.0, 288.6700134277344)\n",
      "page[0] -> bbox[44]: (365.3800048828125, 302.4200134277344, 414.114990234375, 315.5)\n",
      "page[0] -> bbox[45]: (365.260009765625, 335.1100158691406, 414.1300048828125, 348.19000244140625)\n",
      "page[0] -> bbox[46]: (126.55000305175781, 371.0400085449219, 134.22999572753906, 384.1199951171875)\n",
      "page[0] -> bbox[47]: (278.8800048828125, 371.0400085449219, 290.6400146484375, 384.1199951171875)\n",
      "page[0] -> bbox[48]: (431.8800048828125, 371.0400085449219, 443.8800048828125, 384.1199951171875)\n",
      "page[0] -> bbox[49]: (88.03199768066406, 428.9000244140625, 99.0719985961914, 441.260009765625)\n",
      "page[0] -> bbox[50]: (71.59200286865234, 445.4599914550781, 77.11199951171875, 456.0199890136719)\n",
      "page[0] -> bbox[51]: (90.43199920654297, 445.4599914550781, 95.6520004272461, 456.0199890136719)\n",
      "page[0] -> bbox[52]: (159.82000732421875, 445.4599914550781, 165.04000854492188, 456.0199890136719)\n",
      "page[0] -> bbox[53]: (126.43000030517578, 459.86602783203125, 131.64999389648438, 470.45001220703125)\n",
      "page[0] -> bbox[54]: (154.05999755859375, 459.86602783203125, 159.5800018310547, 470.45001220703125)\n",
      "page[0] -> bbox[55]: (221.13999938964844, 406.46002197265625, 252.33999633789062, 418.82000732421875)\n",
      "page[0] -> bbox[56]: (103.37000274658203, 496.7799987792969, 124.52000427246094, 507.3399963378906)\n",
      "page[0] -> bbox[57]: (145.97000122070312, 496.7799987792969, 166.4499969482422, 507.3399963378906)\n",
      "page[0] -> bbox[58]: (270.30999755859375, 496.7799987792969, 275.3500061035156, 507.3399963378906)\n",
      "page[0] -> bbox[59]: (84.14399719238281, 509.739990234375, 96.33599853515625, 520.2999877929688)\n",
      "page[0] -> bbox[60]: (256.75, 509.739990234375, 262.1499938964844, 520.2999877929688)\n",
      "page[0] -> bbox[61]: (388.67999267578125, 509.739990234375, 392.7599792480469, 520.2999877929688)\n",
      "page[0] -> bbox[62]: (54.14400100708008, 522.7000122070312, 62.42399978637695, 533.260009765625)\n",
      "page[0] -> bbox[63]: (144.52999877929688, 522.7000122070312, 158.17999267578125, 533.260009765625)\n",
      "page[0] -> bbox[64]: (200.47000122070312, 522.7000122070312, 209.35000610351562, 533.260009765625)\n",
      "page[0] -> bbox[65]: (389.2799987792969, 522.7000122070312, 394.5, 533.260009765625)\n",
      "page[0] -> bbox[66]: (59.06399917602539, 535.656005859375, 68.96399688720703, 546.239990234375)\n",
      "page[0] -> bbox[67]: (73.7040023803711, 535.656005859375, 79.10400390625, 546.239990234375)\n",
      "page[0] -> bbox[68]: (287.3800048828125, 535.656005859375, 294.58001708984375, 546.239990234375)\n",
      "page[0] -> bbox[69]: (184.00999450683594, 689.4960327148438, 193.3699951171875, 700.0560302734375)\n",
      "page[0] -> bbox[70]: (395.260009765625, 689.4960327148438, 401.02001953125, 700.0560302734375)\n",
      "page[1] -> bbox[0]: (-0.23999999463558197, -0.839996337890625, 539.760009765625, 214.55999755859375)\n",
      "page[1] -> bbox[1]: (219.0, 231.6000213623047, 321.0, 279.84002685546875)\n",
      "page[1] -> bbox[2]: (75.95999908447266, 605.5150146484375, 279.7099914550781, 760.0750122070312)\n",
      "page[1] -> bbox[3]: (91.31999969482422, 620.8800048828125, 250.20001220703125, 730.5599975585938)\n",
      "page[1] -> bbox[4]: (76.68000030517578, 299.5199890136719, 279.3599853515625, 454.42999267578125)\n",
      "page[1] -> bbox[5]: (92.04000091552734, 314.8800048828125, 249.83999633789062, 424.9200134277344)\n",
      "page[1] -> bbox[6]: (76.31999969482422, 450.5999755859375, 279.3599853515625, 604.0899658203125)\n",
      "page[1] -> bbox[7]: (91.68000030517578, 465.9599914550781, 249.83999633789062, 574.5599975585938)\n",
      "page[1] -> bbox[8]: (274.67999267578125, 450.1199951171875, 480.9599914550781, 605.510009765625)\n",
      "page[1] -> bbox[9]: (290.0400085449219, 465.4800109863281, 451.44000244140625, 576.0)\n",
      "page[1] -> bbox[10]: (274.67999267578125, 299.5199890136719, 482.5299987792969, 455.7699890136719)\n",
      "page[1] -> bbox[11]: (290.0400085449219, 314.8800048828125, 453.0, 426.239990234375)\n",
      "page[1] -> bbox[12]: (305.1400146484375, 595.1000366210938, 350.0680236816406, 612.02001953125)\n",
      "page[1] -> bbox[13]: (291.4800109863281, 620.1599731445312, 454.44000244140625, 732.719970703125)\n"
     ]
    }
   ],
   "source": [
    "import fitz\n",
    "\n",
    "pages = fitz.open(stream=Byte_contents, filetype='pdf')      \n",
    "            \n",
    "for i, page in enumerate(pages):\n",
    "    imgInfo = page.get_image_info()\n",
    "    width = height = 0\n",
    "    for j, info in enumerate(imgInfo):\n",
    "        bbox = info['bbox']\n",
    "        print(f\"page[{i}] -> bbox[{j}]: {bbox}\")\n",
    "        if (bbox[2]-bbox[0]>width or bbox[3]-bbox[1]>height) and (bbox[2]-bbox[0]<940 and bbox[3]-bbox[1]<520):\n",
    "            width = bbox[2]-bbox[0]\n",
    "            height = bbox[3]-bbox[1]\n",
    "                        \n",
    "    if nImages[i]>=4 or \\\n",
    "        (nImages[i]>=1 and (width==0 and height==0)) or \\\n",
    "        (nImages[i]>=1 and (width>=100 or height>=100)):\n",
    "        # save current pdf page to image \n",
    "        pixmap = page.get_pixmap(dpi=200)  # dpi=300\n",
    "        #pixels = pixmap.tobytes() # output: jpg\n",
    "                        \n",
    "        # convert to png\n",
    "        img = Image.frombytes(\"RGB\", [pixmap.width, pixmap.height], pixmap.samples)\n",
    "        pixels = BytesIO()\n",
    "        img.save(pixels, format='PNG')\n",
    "        pixels.seek(0, 0)\n",
    "\n",
    "        # get path from key\n",
    "        objectName = (key[key.find(s3_prefix)+len(s3_prefix)+1:len(key)])\n",
    "        folder = s3_prefix+'/captures/'+objectName+'/'\n",
    "                                \n",
    "        fname = 'img_'+key.split('/')[-1].split('.')[0]+f\"_{i}\"\n",
    "\n",
    "        response = s3_client.put_object(\n",
    "        Bucket=s3_bucket,\n",
    "            Key=folder+fname+'.png',\n",
    "            ContentType='image/png',\n",
    "            Metadata = {\n",
    "                \"ext\": 'png',\n",
    "                \"page\": str(i)\n",
    "            },\n",
    "            Body=pixels\n",
    "        )\n",
    "                                                        \n",
    "        files.append(folder+fname+'.png')   "
   ]
  },
  {
   "cell_type": "markdown",
   "id": "474c54e5-8ca0-4e37-8f11-c6206c2c4d5d",
   "metadata": {},
   "source": [
    "## Table"
   ]
  },
  {
   "cell_type": "code",
   "execution_count": 12,
   "id": "4b77b55f-2750-4d8d-88e2-e7b21217eff1",
   "metadata": {
    "tags": []
   },
   "outputs": [
    {
     "name": "stdout",
     "output_type": "stream",
     "text": [
      "[['혜택1', '혜택2', '혜택3'], [None, '당첨경품이벤트\\n쿠폰증정\\n(호텔1박숙박권및레스토랑& 바이용권,\\n호텔PB 상품, 화장품등)\\n*투숙당1매제공', None]]\n"
     ]
    }
   ],
   "source": [
    "tables = []\n",
    "for i, page in enumerate(pages):\n",
    "    tab = page.find_tables()\n",
    "    if tab.tables:\n",
    "        print(tab[0].extract())\n",
    "        tables.append(tab[0])"
   ]
  },
  {
   "cell_type": "markdown",
   "id": "075e0b2e-0b91-49ee-ab69-e4898fc619c3",
   "metadata": {},
   "source": [
    "### Convert to pandas DataFrame"
   ]
  },
  {
   "cell_type": "code",
   "execution_count": 13,
   "id": "eb467419-fcc3-4263-a7b4-08feffd2ca62",
   "metadata": {
    "tags": []
   },
   "outputs": [
    {
     "name": "stdout",
     "output_type": "stream",
     "text": [
      "Table:\n",
      "    혜택1                  혜택2   혜택3\n",
      "0  None  제큐티브디럭스\\n이그제큐티브 라운지  None\n"
     ]
    }
   ],
   "source": [
    "for tab in tables:\n",
    "    df = tab.to_pandas()\n",
    "    print(\"Table:\")\n",
    "    print(df)"
   ]
  },
  {
   "cell_type": "markdown",
   "id": "4f25b838-17a9-47cf-af4b-979819cb8a79",
   "metadata": {},
   "source": [
    "### Convert to MarkDown"
   ]
  },
  {
   "cell_type": "code",
   "execution_count": 14,
   "id": "d910a7fe-d1fc-437b-910b-7aae3572bfb0",
   "metadata": {
    "tags": []
   },
   "outputs": [
    {
     "data": {
      "text/plain": [
       "1"
      ]
     },
     "execution_count": 14,
     "metadata": {},
     "output_type": "execute_result"
    }
   ],
   "source": [
    "len(tables)"
   ]
  },
  {
   "cell_type": "code",
   "execution_count": 15,
   "id": "10998b24-c9ae-4239-889b-c5a1aa29a7a5",
   "metadata": {
    "tags": []
   },
   "outputs": [
    {
     "name": "stdout",
     "output_type": "stream",
     "text": [
      "|혜택1|혜택2|혜택3|\n",
      "|---|---|---|\n",
      "||제큐티브디럭스 이그제큐티브 라운지||\n",
      "\n",
      "\n"
     ]
    }
   ],
   "source": [
    "for tab in tables:\n",
    "    md = tab.to_markdown()\n",
    "    print(md)"
   ]
  },
  {
   "cell_type": "code",
   "execution_count": 20,
   "id": "8115f8a4-6535-4ff3-949a-aecc7f2617ed",
   "metadata": {
    "tags": []
   },
   "outputs": [
    {
     "data": {
      "text/plain": [
       "['|혜택1|혜택2|혜택3|\\n|---|---|---|\\n||당첨경품이벤트 쿠폰증정 (호텔1박숙박권및레스토랑&amp; 바이용권, 호텔PB 상품, 화장품등) *투숙당1매제공||\\n\\n']"
      ]
     },
     "execution_count": 20,
     "metadata": {},
     "output_type": "execute_result"
    }
   ],
   "source": [
    "table_md = []\n",
    "for i, page in enumerate(pages):\n",
    "    tab = page.find_tables()\n",
    "    if tab.tables:\n",
    "        table_md.append(tab[0].to_markdown())\n",
    "table_md"
   ]
  },
  {
   "cell_type": "markdown",
   "id": "471172f3-4706-42fd-91cf-03fa5bb876db",
   "metadata": {},
   "source": [
    "### Table Info"
   ]
  },
  {
   "cell_type": "code",
   "execution_count": 16,
   "id": "cb36907a-d195-40d1-b78e-885a1c26065a",
   "metadata": {
    "tags": []
   },
   "outputs": [
    {
     "name": "stdout",
     "output_type": "stream",
     "text": [
      "index: 0\n",
      "bounding box: (48.38100051879883, 367.6492614746094, 491.12049865722656, 492.38800048828125)\n",
      "top-left cell: (48.38100051879883, 367.6492614746094, 184.95033264160156, 387.9800109863281)\n",
      "bottom-right cell: (354.98000081380206, 367.6492614746094, 491.12049865722656, 387.9800109863281)\n",
      "row count: 2, column count: 3\n"
     ]
    }
   ],
   "source": [
    "for i, tab in enumerate(tables):\n",
    "    print(f\"index: {i}\")\n",
    "    print(f\"bounding box: {tab.bbox}\")  # bounding box of the full table\n",
    "    print(f\"top-left cell: {tab.cells[0]}\")  # top-left cell\n",
    "    print(f\"bottom-right cell: {tab.cells[-1]}\")  # bottom-right cell\n",
    "    print(f\"row count: {tab.row_count}, column count: {tab.col_count}\") # row and column counts"
   ]
  },
  {
   "cell_type": "code",
   "execution_count": 17,
   "id": "53d0c72b-1d4c-455e-9165-db0e0b3f055c",
   "metadata": {
    "tags": []
   },
   "outputs": [],
   "source": [
    "from PIL import Image\n",
    "\n",
    "def extract_table_image(page, index, bbox):\n",
    "    pixmap_ori = page.get_pixmap()\n",
    "    print(f\"width: {pixmap_ori.width}, height: {pixmap_ori.height}\")\n",
    "        \n",
    "    pixmap = page.get_pixmap(dpi=200)  # dpi=300\n",
    "    #pixels = pixmap.tobytes() # output: jpg\n",
    "    \n",
    "    # convert to png\n",
    "    img = Image.frombytes(\"RGB\", [pixmap.width, pixmap.height], pixmap.samples)\n",
    "    print(f\"width: {pixmap.width}, height: {pixmap.height}\")\n",
    "    \n",
    "    rate_width = pixmap.width / pixmap_ori.width\n",
    "    rate_height = pixmap.height / pixmap_ori.height\n",
    "    print(f\"rate_width={rate_width}, rate_height={rate_height}\")\n",
    "    \n",
    "    crop_img = img.crop((bbox[0]*rate_width, bbox[1]*rate_height, bbox[2]*rate_width, bbox[3]*rate_height))\n",
    "    \n",
    "    pixels = BytesIO()\n",
    "    crop_img.save(pixels, format='PNG')\n",
    "    pixels.seek(0, 0)\n",
    "\n",
    "    # get path from key\n",
    "    objectName = (key[key.find(s3_prefix)+len(s3_prefix)+1:len(key)])\n",
    "    folder = s3_prefix+'/captures/'+objectName+'/'\n",
    "                                \n",
    "    fname = 'table_'+key.split('/')[-1].split('.')[0]+f\"_{index}\"\n",
    "\n",
    "    response = s3_client.put_object(\n",
    "    Bucket=s3_bucket,\n",
    "        Key=folder+fname+'.png',\n",
    "        ContentType='image/png',\n",
    "        Metadata = {\n",
    "            \"ext\": 'png',\n",
    "            \"page\": str(index)\n",
    "        },\n",
    "        Body=pixels\n",
    "    )\n",
    "                                                        \n",
    "    files.append(folder+fname+'.png')   "
   ]
  },
  {
   "cell_type": "code",
   "execution_count": 21,
   "id": "a4d88f84-4310-4de2-883c-203cd2b9d39b",
   "metadata": {
    "tags": []
   },
   "outputs": [
    {
     "name": "stdout",
     "output_type": "stream",
     "text": [
      "|혜택1|혜택2|혜택3|\n",
      "|---|---|---|\n",
      "||당첨경품이벤트 쿠폰증정 (호텔1박숙박권및레스토랑&amp; 바이용권, 호텔PB 상품, 화장품등) *투숙당1매제공||\n",
      "\n",
      "\n",
      "index: 0\n",
      "bounding box: (48.38100051879883, 367.6492614746094, 491.12049865722656, 492.38800048828125)\n",
      "top-left cell: (48.38100051879883, 367.6492614746094, 184.95033264160156, 387.9800109863281)\n",
      "bottom-right cell: (354.98000081380206, 367.6492614746094, 491.12049865722656, 387.9800109863281)\n",
      "row count: 2, column count: 3\n",
      "\n",
      "\n",
      "\n",
      "width: 540, height: 792\n",
      "width: 1500, height: 2200\n",
      "rate_width=2.7777777777777777, rate_height=2.7777777777777777\n"
     ]
    }
   ],
   "source": [
    "tables = []\n",
    "for i, page in enumerate(pages):\n",
    "    page_tables = page.find_tables()\n",
    "    \n",
    "    if page_tables.tables:\n",
    "        tab = page_tables[0]\n",
    "        \n",
    "        print(tab.to_markdown())    \n",
    "        print(f\"index: {i}\")\n",
    "        print(f\"bounding box: {tab.bbox}\")  # bounding box of the full table\n",
    "        print(f\"top-left cell: {tab.cells[0]}\")  # top-left cell\n",
    "        print(f\"bottom-right cell: {tab.cells[-1]}\")  # bottom-right cell\n",
    "        print(f\"row count: {tab.row_count}, column count: {tab.col_count}\") # row and column counts\n",
    "        print(\"\\n\\n\")\n",
    "        \n",
    "        extract_table_image(page, i, tab.bbox)"
   ]
  },
  {
   "cell_type": "code",
   "execution_count": null,
   "id": "1a93daa1-dbef-4081-b6b5-f5b8131e1808",
   "metadata": {},
   "outputs": [],
   "source": []
  }
 ],
 "metadata": {
  "availableInstances": [
   {
    "_defaultOrder": 0,
    "_isFastLaunch": true,
    "category": "General purpose",
    "gpuNum": 0,
    "hideHardwareSpecs": false,
    "memoryGiB": 4,
    "name": "ml.t3.medium",
    "vcpuNum": 2
   },
   {
    "_defaultOrder": 1,
    "_isFastLaunch": false,
    "category": "General purpose",
    "gpuNum": 0,
    "hideHardwareSpecs": false,
    "memoryGiB": 8,
    "name": "ml.t3.large",
    "vcpuNum": 2
   },
   {
    "_defaultOrder": 2,
    "_isFastLaunch": false,
    "category": "General purpose",
    "gpuNum": 0,
    "hideHardwareSpecs": false,
    "memoryGiB": 16,
    "name": "ml.t3.xlarge",
    "vcpuNum": 4
   },
   {
    "_defaultOrder": 3,
    "_isFastLaunch": false,
    "category": "General purpose",
    "gpuNum": 0,
    "hideHardwareSpecs": false,
    "memoryGiB": 32,
    "name": "ml.t3.2xlarge",
    "vcpuNum": 8
   },
   {
    "_defaultOrder": 4,
    "_isFastLaunch": true,
    "category": "General purpose",
    "gpuNum": 0,
    "hideHardwareSpecs": false,
    "memoryGiB": 8,
    "name": "ml.m5.large",
    "vcpuNum": 2
   },
   {
    "_defaultOrder": 5,
    "_isFastLaunch": false,
    "category": "General purpose",
    "gpuNum": 0,
    "hideHardwareSpecs": false,
    "memoryGiB": 16,
    "name": "ml.m5.xlarge",
    "vcpuNum": 4
   },
   {
    "_defaultOrder": 6,
    "_isFastLaunch": false,
    "category": "General purpose",
    "gpuNum": 0,
    "hideHardwareSpecs": false,
    "memoryGiB": 32,
    "name": "ml.m5.2xlarge",
    "vcpuNum": 8
   },
   {
    "_defaultOrder": 7,
    "_isFastLaunch": false,
    "category": "General purpose",
    "gpuNum": 0,
    "hideHardwareSpecs": false,
    "memoryGiB": 64,
    "name": "ml.m5.4xlarge",
    "vcpuNum": 16
   },
   {
    "_defaultOrder": 8,
    "_isFastLaunch": false,
    "category": "General purpose",
    "gpuNum": 0,
    "hideHardwareSpecs": false,
    "memoryGiB": 128,
    "name": "ml.m5.8xlarge",
    "vcpuNum": 32
   },
   {
    "_defaultOrder": 9,
    "_isFastLaunch": false,
    "category": "General purpose",
    "gpuNum": 0,
    "hideHardwareSpecs": false,
    "memoryGiB": 192,
    "name": "ml.m5.12xlarge",
    "vcpuNum": 48
   },
   {
    "_defaultOrder": 10,
    "_isFastLaunch": false,
    "category": "General purpose",
    "gpuNum": 0,
    "hideHardwareSpecs": false,
    "memoryGiB": 256,
    "name": "ml.m5.16xlarge",
    "vcpuNum": 64
   },
   {
    "_defaultOrder": 11,
    "_isFastLaunch": false,
    "category": "General purpose",
    "gpuNum": 0,
    "hideHardwareSpecs": false,
    "memoryGiB": 384,
    "name": "ml.m5.24xlarge",
    "vcpuNum": 96
   },
   {
    "_defaultOrder": 12,
    "_isFastLaunch": false,
    "category": "General purpose",
    "gpuNum": 0,
    "hideHardwareSpecs": false,
    "memoryGiB": 8,
    "name": "ml.m5d.large",
    "vcpuNum": 2
   },
   {
    "_defaultOrder": 13,
    "_isFastLaunch": false,
    "category": "General purpose",
    "gpuNum": 0,
    "hideHardwareSpecs": false,
    "memoryGiB": 16,
    "name": "ml.m5d.xlarge",
    "vcpuNum": 4
   },
   {
    "_defaultOrder": 14,
    "_isFastLaunch": false,
    "category": "General purpose",
    "gpuNum": 0,
    "hideHardwareSpecs": false,
    "memoryGiB": 32,
    "name": "ml.m5d.2xlarge",
    "vcpuNum": 8
   },
   {
    "_defaultOrder": 15,
    "_isFastLaunch": false,
    "category": "General purpose",
    "gpuNum": 0,
    "hideHardwareSpecs": false,
    "memoryGiB": 64,
    "name": "ml.m5d.4xlarge",
    "vcpuNum": 16
   },
   {
    "_defaultOrder": 16,
    "_isFastLaunch": false,
    "category": "General purpose",
    "gpuNum": 0,
    "hideHardwareSpecs": false,
    "memoryGiB": 128,
    "name": "ml.m5d.8xlarge",
    "vcpuNum": 32
   },
   {
    "_defaultOrder": 17,
    "_isFastLaunch": false,
    "category": "General purpose",
    "gpuNum": 0,
    "hideHardwareSpecs": false,
    "memoryGiB": 192,
    "name": "ml.m5d.12xlarge",
    "vcpuNum": 48
   },
   {
    "_defaultOrder": 18,
    "_isFastLaunch": false,
    "category": "General purpose",
    "gpuNum": 0,
    "hideHardwareSpecs": false,
    "memoryGiB": 256,
    "name": "ml.m5d.16xlarge",
    "vcpuNum": 64
   },
   {
    "_defaultOrder": 19,
    "_isFastLaunch": false,
    "category": "General purpose",
    "gpuNum": 0,
    "hideHardwareSpecs": false,
    "memoryGiB": 384,
    "name": "ml.m5d.24xlarge",
    "vcpuNum": 96
   },
   {
    "_defaultOrder": 20,
    "_isFastLaunch": false,
    "category": "General purpose",
    "gpuNum": 0,
    "hideHardwareSpecs": true,
    "memoryGiB": 0,
    "name": "ml.geospatial.interactive",
    "supportedImageNames": [
     "sagemaker-geospatial-v1-0"
    ],
    "vcpuNum": 0
   },
   {
    "_defaultOrder": 21,
    "_isFastLaunch": true,
    "category": "Compute optimized",
    "gpuNum": 0,
    "hideHardwareSpecs": false,
    "memoryGiB": 4,
    "name": "ml.c5.large",
    "vcpuNum": 2
   },
   {
    "_defaultOrder": 22,
    "_isFastLaunch": false,
    "category": "Compute optimized",
    "gpuNum": 0,
    "hideHardwareSpecs": false,
    "memoryGiB": 8,
    "name": "ml.c5.xlarge",
    "vcpuNum": 4
   },
   {
    "_defaultOrder": 23,
    "_isFastLaunch": false,
    "category": "Compute optimized",
    "gpuNum": 0,
    "hideHardwareSpecs": false,
    "memoryGiB": 16,
    "name": "ml.c5.2xlarge",
    "vcpuNum": 8
   },
   {
    "_defaultOrder": 24,
    "_isFastLaunch": false,
    "category": "Compute optimized",
    "gpuNum": 0,
    "hideHardwareSpecs": false,
    "memoryGiB": 32,
    "name": "ml.c5.4xlarge",
    "vcpuNum": 16
   },
   {
    "_defaultOrder": 25,
    "_isFastLaunch": false,
    "category": "Compute optimized",
    "gpuNum": 0,
    "hideHardwareSpecs": false,
    "memoryGiB": 72,
    "name": "ml.c5.9xlarge",
    "vcpuNum": 36
   },
   {
    "_defaultOrder": 26,
    "_isFastLaunch": false,
    "category": "Compute optimized",
    "gpuNum": 0,
    "hideHardwareSpecs": false,
    "memoryGiB": 96,
    "name": "ml.c5.12xlarge",
    "vcpuNum": 48
   },
   {
    "_defaultOrder": 27,
    "_isFastLaunch": false,
    "category": "Compute optimized",
    "gpuNum": 0,
    "hideHardwareSpecs": false,
    "memoryGiB": 144,
    "name": "ml.c5.18xlarge",
    "vcpuNum": 72
   },
   {
    "_defaultOrder": 28,
    "_isFastLaunch": false,
    "category": "Compute optimized",
    "gpuNum": 0,
    "hideHardwareSpecs": false,
    "memoryGiB": 192,
    "name": "ml.c5.24xlarge",
    "vcpuNum": 96
   },
   {
    "_defaultOrder": 29,
    "_isFastLaunch": true,
    "category": "Accelerated computing",
    "gpuNum": 1,
    "hideHardwareSpecs": false,
    "memoryGiB": 16,
    "name": "ml.g4dn.xlarge",
    "vcpuNum": 4
   },
   {
    "_defaultOrder": 30,
    "_isFastLaunch": false,
    "category": "Accelerated computing",
    "gpuNum": 1,
    "hideHardwareSpecs": false,
    "memoryGiB": 32,
    "name": "ml.g4dn.2xlarge",
    "vcpuNum": 8
   },
   {
    "_defaultOrder": 31,
    "_isFastLaunch": false,
    "category": "Accelerated computing",
    "gpuNum": 1,
    "hideHardwareSpecs": false,
    "memoryGiB": 64,
    "name": "ml.g4dn.4xlarge",
    "vcpuNum": 16
   },
   {
    "_defaultOrder": 32,
    "_isFastLaunch": false,
    "category": "Accelerated computing",
    "gpuNum": 1,
    "hideHardwareSpecs": false,
    "memoryGiB": 128,
    "name": "ml.g4dn.8xlarge",
    "vcpuNum": 32
   },
   {
    "_defaultOrder": 33,
    "_isFastLaunch": false,
    "category": "Accelerated computing",
    "gpuNum": 4,
    "hideHardwareSpecs": false,
    "memoryGiB": 192,
    "name": "ml.g4dn.12xlarge",
    "vcpuNum": 48
   },
   {
    "_defaultOrder": 34,
    "_isFastLaunch": false,
    "category": "Accelerated computing",
    "gpuNum": 1,
    "hideHardwareSpecs": false,
    "memoryGiB": 256,
    "name": "ml.g4dn.16xlarge",
    "vcpuNum": 64
   },
   {
    "_defaultOrder": 35,
    "_isFastLaunch": false,
    "category": "Accelerated computing",
    "gpuNum": 1,
    "hideHardwareSpecs": false,
    "memoryGiB": 61,
    "name": "ml.p3.2xlarge",
    "vcpuNum": 8
   },
   {
    "_defaultOrder": 36,
    "_isFastLaunch": false,
    "category": "Accelerated computing",
    "gpuNum": 4,
    "hideHardwareSpecs": false,
    "memoryGiB": 244,
    "name": "ml.p3.8xlarge",
    "vcpuNum": 32
   },
   {
    "_defaultOrder": 37,
    "_isFastLaunch": false,
    "category": "Accelerated computing",
    "gpuNum": 8,
    "hideHardwareSpecs": false,
    "memoryGiB": 488,
    "name": "ml.p3.16xlarge",
    "vcpuNum": 64
   },
   {
    "_defaultOrder": 38,
    "_isFastLaunch": false,
    "category": "Accelerated computing",
    "gpuNum": 8,
    "hideHardwareSpecs": false,
    "memoryGiB": 768,
    "name": "ml.p3dn.24xlarge",
    "vcpuNum": 96
   },
   {
    "_defaultOrder": 39,
    "_isFastLaunch": false,
    "category": "Memory Optimized",
    "gpuNum": 0,
    "hideHardwareSpecs": false,
    "memoryGiB": 16,
    "name": "ml.r5.large",
    "vcpuNum": 2
   },
   {
    "_defaultOrder": 40,
    "_isFastLaunch": false,
    "category": "Memory Optimized",
    "gpuNum": 0,
    "hideHardwareSpecs": false,
    "memoryGiB": 32,
    "name": "ml.r5.xlarge",
    "vcpuNum": 4
   },
   {
    "_defaultOrder": 41,
    "_isFastLaunch": false,
    "category": "Memory Optimized",
    "gpuNum": 0,
    "hideHardwareSpecs": false,
    "memoryGiB": 64,
    "name": "ml.r5.2xlarge",
    "vcpuNum": 8
   },
   {
    "_defaultOrder": 42,
    "_isFastLaunch": false,
    "category": "Memory Optimized",
    "gpuNum": 0,
    "hideHardwareSpecs": false,
    "memoryGiB": 128,
    "name": "ml.r5.4xlarge",
    "vcpuNum": 16
   },
   {
    "_defaultOrder": 43,
    "_isFastLaunch": false,
    "category": "Memory Optimized",
    "gpuNum": 0,
    "hideHardwareSpecs": false,
    "memoryGiB": 256,
    "name": "ml.r5.8xlarge",
    "vcpuNum": 32
   },
   {
    "_defaultOrder": 44,
    "_isFastLaunch": false,
    "category": "Memory Optimized",
    "gpuNum": 0,
    "hideHardwareSpecs": false,
    "memoryGiB": 384,
    "name": "ml.r5.12xlarge",
    "vcpuNum": 48
   },
   {
    "_defaultOrder": 45,
    "_isFastLaunch": false,
    "category": "Memory Optimized",
    "gpuNum": 0,
    "hideHardwareSpecs": false,
    "memoryGiB": 512,
    "name": "ml.r5.16xlarge",
    "vcpuNum": 64
   },
   {
    "_defaultOrder": 46,
    "_isFastLaunch": false,
    "category": "Memory Optimized",
    "gpuNum": 0,
    "hideHardwareSpecs": false,
    "memoryGiB": 768,
    "name": "ml.r5.24xlarge",
    "vcpuNum": 96
   },
   {
    "_defaultOrder": 47,
    "_isFastLaunch": false,
    "category": "Accelerated computing",
    "gpuNum": 1,
    "hideHardwareSpecs": false,
    "memoryGiB": 16,
    "name": "ml.g5.xlarge",
    "vcpuNum": 4
   },
   {
    "_defaultOrder": 48,
    "_isFastLaunch": false,
    "category": "Accelerated computing",
    "gpuNum": 1,
    "hideHardwareSpecs": false,
    "memoryGiB": 32,
    "name": "ml.g5.2xlarge",
    "vcpuNum": 8
   },
   {
    "_defaultOrder": 49,
    "_isFastLaunch": false,
    "category": "Accelerated computing",
    "gpuNum": 1,
    "hideHardwareSpecs": false,
    "memoryGiB": 64,
    "name": "ml.g5.4xlarge",
    "vcpuNum": 16
   },
   {
    "_defaultOrder": 50,
    "_isFastLaunch": false,
    "category": "Accelerated computing",
    "gpuNum": 1,
    "hideHardwareSpecs": false,
    "memoryGiB": 128,
    "name": "ml.g5.8xlarge",
    "vcpuNum": 32
   },
   {
    "_defaultOrder": 51,
    "_isFastLaunch": false,
    "category": "Accelerated computing",
    "gpuNum": 1,
    "hideHardwareSpecs": false,
    "memoryGiB": 256,
    "name": "ml.g5.16xlarge",
    "vcpuNum": 64
   },
   {
    "_defaultOrder": 52,
    "_isFastLaunch": false,
    "category": "Accelerated computing",
    "gpuNum": 4,
    "hideHardwareSpecs": false,
    "memoryGiB": 192,
    "name": "ml.g5.12xlarge",
    "vcpuNum": 48
   },
   {
    "_defaultOrder": 53,
    "_isFastLaunch": false,
    "category": "Accelerated computing",
    "gpuNum": 4,
    "hideHardwareSpecs": false,
    "memoryGiB": 384,
    "name": "ml.g5.24xlarge",
    "vcpuNum": 96
   },
   {
    "_defaultOrder": 54,
    "_isFastLaunch": false,
    "category": "Accelerated computing",
    "gpuNum": 8,
    "hideHardwareSpecs": false,
    "memoryGiB": 768,
    "name": "ml.g5.48xlarge",
    "vcpuNum": 192
   },
   {
    "_defaultOrder": 55,
    "_isFastLaunch": false,
    "category": "Accelerated computing",
    "gpuNum": 8,
    "hideHardwareSpecs": false,
    "memoryGiB": 1152,
    "name": "ml.p4d.24xlarge",
    "vcpuNum": 96
   },
   {
    "_defaultOrder": 56,
    "_isFastLaunch": false,
    "category": "Accelerated computing",
    "gpuNum": 8,
    "hideHardwareSpecs": false,
    "memoryGiB": 1152,
    "name": "ml.p4de.24xlarge",
    "vcpuNum": 96
   },
   {
    "_defaultOrder": 57,
    "_isFastLaunch": false,
    "category": "Accelerated computing",
    "gpuNum": 0,
    "hideHardwareSpecs": false,
    "memoryGiB": 32,
    "name": "ml.trn1.2xlarge",
    "vcpuNum": 8
   },
   {
    "_defaultOrder": 58,
    "_isFastLaunch": false,
    "category": "Accelerated computing",
    "gpuNum": 0,
    "hideHardwareSpecs": false,
    "memoryGiB": 512,
    "name": "ml.trn1.32xlarge",
    "vcpuNum": 128
   },
   {
    "_defaultOrder": 59,
    "_isFastLaunch": false,
    "category": "Accelerated computing",
    "gpuNum": 0,
    "hideHardwareSpecs": false,
    "memoryGiB": 512,
    "name": "ml.trn1n.32xlarge",
    "vcpuNum": 128
   }
  ],
  "instance_type": "ml.t3.medium",
  "kernelspec": {
   "display_name": "Python 3 (Data Science 3.0)",
   "language": "python",
   "name": "python3__SAGEMAKER_INTERNAL__arn:aws:sagemaker:us-west-2:236514542706:image/sagemaker-data-science-310-v1"
  },
  "language_info": {
   "codemirror_mode": {
    "name": "ipython",
    "version": 3
   },
   "file_extension": ".py",
   "mimetype": "text/x-python",
   "name": "python",
   "nbconvert_exporter": "python",
   "pygments_lexer": "ipython3",
   "version": "3.10.6"
  }
 },
 "nbformat": 4,
 "nbformat_minor": 5
}
